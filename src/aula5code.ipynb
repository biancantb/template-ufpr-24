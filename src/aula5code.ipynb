{
 "cells": [
  {
   "cell_type": "code",
   "execution_count": 1,
   "metadata": {},
   "outputs": [],
   "source": [
    "import pandas as pd\n"
   ]
  },
  {
   "cell_type": "code",
   "execution_count": 2,
   "metadata": {},
   "outputs": [
    {
     "name": "stdout",
     "output_type": "stream",
     "text": [
      "Requirement already satisfied: pandas in c:\\users\\bianca bastos\\appdata\\local\\programs\\python\\python312\\lib\\site-packages (2.2.2)\n",
      "Requirement already satisfied: numpy>=1.26.0 in c:\\users\\bianca bastos\\appdata\\local\\programs\\python\\python312\\lib\\site-packages (from pandas) (1.26.4)\n",
      "Requirement already satisfied: python-dateutil>=2.8.2 in c:\\users\\bianca bastos\\appdata\\roaming\\python\\python312\\site-packages (from pandas) (2.9.0.post0)\n",
      "Requirement already satisfied: pytz>=2020.1 in c:\\users\\bianca bastos\\appdata\\local\\programs\\python\\python312\\lib\\site-packages (from pandas) (2024.1)\n",
      "Requirement already satisfied: tzdata>=2022.7 in c:\\users\\bianca bastos\\appdata\\local\\programs\\python\\python312\\lib\\site-packages (from pandas) (2024.1)\n",
      "Requirement already satisfied: six>=1.5 in c:\\users\\bianca bastos\\appdata\\roaming\\python\\python312\\site-packages (from python-dateutil>=2.8.2->pandas) (1.16.0)\n",
      "Note: you may need to restart the kernel to use updated packages.\n"
     ]
    }
   ],
   "source": [
    "%pip install pandas"
   ]
  },
  {
   "cell_type": "code",
   "execution_count": 9,
   "metadata": {},
   "outputs": [],
   "source": [
    "import pandas as pd"
   ]
  },
  {
   "cell_type": "code",
   "execution_count": 12,
   "metadata": {},
   "outputs": [],
   "source": [
    "# leitura de arquivo com dados\n",
    "df = pd.read_csv(\"../data/exemplo.csv\")"
   ]
  },
  {
   "cell_type": "code",
   "execution_count": 19,
   "metadata": {},
   "outputs": [
    {
     "name": "stdout",
     "output_type": "stream",
     "text": [
      "         Coluna A  Coluna B  Coluna C  Coluna D\n",
      "Linha 1         0         1         2        10\n",
      "Linha 2        10        11        12        10\n",
      "Linha 3        20        21        22        10 (3, 4)\n"
     ]
    }
   ],
   "source": [
    "print(df,df.shape)"
   ]
  },
  {
   "cell_type": "code",
   "execution_count": 20,
   "metadata": {},
   "outputs": [
    {
     "name": "stdout",
     "output_type": "stream",
     "text": [
      "Linha 1     2\n",
      "Linha 2    12\n",
      "Linha 3    22\n",
      "Name: Coluna C, dtype: int64\n"
     ]
    }
   ],
   "source": [
    "print(df['Coluna C'])"
   ]
  },
  {
   "cell_type": "code",
   "execution_count": 21,
   "metadata": {},
   "outputs": [
    {
     "name": "stdout",
     "output_type": "stream",
     "text": [
      "         Coluna A  Coluna B  Coluna C  Coluna D\n",
      "Linha 1         0         1         2        10\n",
      "Linha 2        10        11        12        10\n",
      "Linha 3        20        21        22        10 (3, 4)\n"
     ]
    }
   ],
   "source": [
    "# criando nova coluna com valor fixo\n",
    "df['Coluna D'] = 10\n",
    "print(df, df.shape)"
   ]
  },
  {
   "cell_type": "code",
   "execution_count": 23,
   "metadata": {},
   "outputs": [
    {
     "name": "stdout",
     "output_type": "stream",
     "text": [
      "         Coluna A  Coluna B  Coluna C  Coluna D  Coluna E\n",
      "Linha 1         0         1         2        10         3\n",
      "Linha 2        10        11        12        10        23\n",
      "Linha 3        20        21        22        10        43 (3, 5)\n"
     ]
    }
   ],
   "source": [
    "# criando nova coluna com valor variável\n",
    "df['Coluna E'] = df['Coluna B'] + df['Coluna C']\n",
    "print(df,df.shape)"
   ]
  },
  {
   "cell_type": "code",
   "execution_count": 26,
   "metadata": {},
   "outputs": [
    {
     "name": "stdout",
     "output_type": "stream",
     "text": [
      "         Coluna A  Coluna B  Coluna C  Coluna D  Coluna E  Coluna F\n",
      "Linha 1         0         1         2        10         3         1\n",
      "Linha 2        10        11        12        10        23         2\n",
      "Linha 3        20        21        22        10        43         3 (3, 6)\n"
     ]
    }
   ],
   "source": [
    "df['Coluna F'] = [1,2,3]\n",
    "print(df, df.shape)"
   ]
  },
  {
   "cell_type": "markdown",
   "metadata": {},
   "source": []
  }
 ],
 "metadata": {
  "kernelspec": {
   "display_name": "Python 3",
   "language": "python",
   "name": "python3"
  },
  "language_info": {
   "codemirror_mode": {
    "name": "ipython",
    "version": 3
   },
   "file_extension": ".py",
   "mimetype": "text/x-python",
   "name": "python",
   "nbconvert_exporter": "python",
   "pygments_lexer": "ipython3",
   "version": "3.12.2"
  }
 },
 "nbformat": 4,
 "nbformat_minor": 2
}
